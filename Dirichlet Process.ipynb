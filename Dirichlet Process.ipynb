{
 "cells": [
  {
   "cell_type": "markdown",
   "metadata": {},
   "source": [
    "# Dirichlet Distribution\n",
    "\n",
    "*A multinomial generalization of Beta distribution*\n",
    "\n",
    "\n",
    "$f(x_1,\\dots,x_k;\\alpha_1,\\dots,\\alpha_K) = \\dfrac{1}{B(\\alpha)}\\displaystyle \\prod_{i=1}^{K} x_i^{\\alpha_i-1}$<br><br>\n",
    "\n",
    "$B(\\alpha) = \\dfrac{\\displaystyle \\prod_{i=1}^{K}\\Gamma(\\alpha_i)}{\\Gamma(\\displaystyle \\sum_{i=1}^{K}\\alpha_i)}$\n",
    "\n",
    "# Dirichlet Process\n",
    "\n",
    "Dirichlet processes (after Peter Gustav Lejeune Dirichlet) are a family of stochastic processes whose realizations are probability distributions\n",
    "\n",
    "Dirichlet Process is a distribution over distribution parameterized by $\\alpha$ (dispersion parameter) and $G$(Base Distribution)\n",
    "\n",
    "Dirichlet Process can be demostrated by three models:<br>\n",
    "1.*Chinese Restaurant Process*<br>\n",
    "2.*Polya Urn Process*<br>\n",
    "3.*Stick Breaking Process*<br>\n",
    "\n",
    "Algorithm for simulation of generation of $X_1,X_2,\\dots,$ by Dirichlet Process:\n",
    "\n",
    "1.Draw $X_1$ from the base distribution $G$<br>\n",
    "2.For $n>1$:<br>\n",
    "\n",
    "-With the probability $\\dfrac{\\alpha}{n+\\alpha}$ sample $X_n$ from $G$\n",
    "\n",
    "-With the probability $\\dfrac{n_x}{n+\\alpha}$ set $X_x=x,$  n_x := |${$:X_j=x$ and $j<n$| where $|.|$ denotes the number of elements in the set\n",
    "\n",
    "# Properties of DP\n",
    "\n",
    "Let DP($\\alpha$, $G$ ) be the Dirichlet Process with dispersion parameter $\\alpha$ and base distribution $G$, then<br><br>\n",
    "\n",
    "<center>$\\mathbf{E}_{DP(\\alpha,G)}[x] = \\mathbf{E}_G[x]$<br><br>\n",
    "As $\\alpha \\rightarrow \\infty,  DP(\\alpha,G) \\rightarrow G$</center>\n",
    "\n",
    "\n",
    "# Gibbs Sampling for DPGMM\n",
    "\n",
    "*Base distribution is Gaussain distribution*\n",
    "<br>\n",
    "<center>$p(z_i = k | z_{-i}) \\equiv p(z_i | z_1 \\dots z_{i-1},z_{i+1},\\dots z_m)$</center>\n",
    "\n",
    "<center>$p(z_i = k|z_{-i},\\vec{x},{\\theta_k},\\alpha) $<br><br>\n",
    "$= p(z_i = k|z_{-i},x_i,\\vec{x},\\theta_k,\\alpha) $<br><br>\n",
    "$= p(z_i = k|z_{-i},\\alpha)p(x_i|\\theta_k,\\vec{x})$</center>\n",
    "\n",
    "\\begin{cases}\n",
    "({\\dfrac{n_k}{n+\\alpha}})\\mathcal{N}(x,\\dfrac{n_x}{n+1},\\mathbf{1}),\\space existing\\\\\n",
    "({\\dfrac{\\alpha}{n+\\alpha}})\\mathcal{N}(x,0,1)),\\space new\n",
    "\\end{cases}\n",
    "\n",
    "where,<br>\n",
    "$z_i$ is the group assignment of $x_i$<br>\n",
    "$k$ is the cluster label<br>\n",
    "$\\alpha$ is the dispersion parameter"
   ]
  },
  {
   "cell_type": "code",
   "execution_count": 1,
   "metadata": {},
   "outputs": [],
   "source": [
    "#nbi:hide_in\n",
    "import numpy as np\n",
    "from scipy import stats\n",
    "import matplotlib.pyplot as plt\n",
    "import matplotlib.tri as tri\n",
    "from mpl_toolkits.mplot3d import Axes3D\n",
    "from ipywidgets import interact\n",
    "from scipy.stats import dirichlet, multivariate_normal\n",
    "from scipy import stats\n",
    "import math\n",
    "import pandas as pd\n",
    "from sklearn import datasets\n",
    "from sklearn.cluster import KMeans"
   ]
  },
  {
   "cell_type": "code",
   "execution_count": 2,
   "metadata": {},
   "outputs": [],
   "source": [
    "#nbi:hide_in\n",
    "def Dir_Dist(a1, a2, a3):\n",
    "    alpha = np.array([a1,a2,a3])\n",
    "    theta = stats.dirichlet(alpha).rvs(1000)\n",
    "    fig = plt.figure(figsize=(8, 8), dpi=100)\n",
    "    ax = plt.gca(projection='3d')\n",
    "    plt.title(r'$\\alpha$ = {}'.format(alpha))\n",
    "    ax.scatter(theta[:, 0], theta[:, 1], theta[:, 2])\n",
    "    ax.view_init(azim=30)\n",
    "    ax.set_xlabel(r'$\\theta_1$')\n",
    "    ax.set_ylabel(r'$\\theta_2$')\n",
    "    ax.set_zlabel(r'$\\theta_3$')\n",
    "    plt.show()"
   ]
  },
  {
   "cell_type": "code",
   "execution_count": 3,
   "metadata": {},
   "outputs": [
    {
     "data": {
      "application/vnd.jupyter.widget-view+json": {
       "model_id": "d075812743db4ab082865d162f0b71c6",
       "version_major": 2,
       "version_minor": 0
      },
      "text/plain": [
       "interactive(children=(FloatSlider(value=1.05, description='a1', max=2.0, min=0.1), FloatSlider(value=1.05, des…"
      ]
     },
     "metadata": {},
     "output_type": "display_data"
    },
    {
     "data": {
      "text/plain": [
       "<function __main__.Dir_Dist(a1, a2, a3)>"
      ]
     },
     "execution_count": 3,
     "metadata": {},
     "output_type": "execute_result"
    }
   ],
   "source": [
    "#nbi:hide_in\n",
    "interact(Dir_Dist, a1=(0.1,2),a2=(0.1,2),a3=(0.1,2))"
   ]
  },
  {
   "cell_type": "code",
   "execution_count": 4,
   "metadata": {},
   "outputs": [],
   "source": [
    "#nbi:hide_in\n",
    "def dirichlet_process(h_0, alpha):\n",
    "    \"\"\"\n",
    "    Truncated dirichlet process.\n",
    "    :param h_0: (scipy distribution)\n",
    "    :param alpha: (flt)\n",
    "    :param n: (int) Truncate value.\n",
    "    \"\"\"\n",
    "    n = max(int(5 * alpha + 2), 500)  # truncate the values. \n",
    "    pi = stats.beta(1, alpha).rvs(size=n)\n",
    "    pi[1:] = pi[1:] * (1 - pi[:-1]).cumprod()  # stick breaking process\n",
    "    theta = h_0(size=n)  # samples from original distribution\n",
    "    return pi, theta\n",
    "        \n",
    "def plot_normal_dp_approximation(alpha, n=3):\n",
    "    pi, theta = dirichlet_process(stats.norm.rvs, alpha)\n",
    "    x = np.linspace(-4, 4, 100)\n",
    "    \n",
    "    plt.figure(figsize=(14, 4))\n",
    "    plt.suptitle(r'Three samples from DP($\\alpha$). $\\alpha$ = {}'.format(alpha))\n",
    "    plt.ylabel(r'$\\pi$')\n",
    "    plt.xlabel(r'$\\theta$')\n",
    "    pltcount = int('1' + str(n) + '0')\n",
    "    \n",
    "    for i in range(n):\n",
    "        pltcount += 1\n",
    "        plt.subplot(pltcount)\n",
    "        pi, theta = dirichlet_process(stats.norm.rvs, alpha)\n",
    "        pi = pi * (stats.norm.pdf(0) / pi.max())\n",
    "        plt.vlines(theta, 0, pi, alpha=0.5)\n",
    "        plt.ylim(0, 1)\n",
    "        plt.plot(x, stats.norm.pdf(x))\n",
    "        #print(len(theta),len(pi))\n",
    "    plt.show()data:image/png;base64,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"
   ]
  },
  {
   "cell_type": "code",
   "execution_count": 5,
   "metadata": {},
   "outputs": [
    {
     "data": {
      "application/vnd.jupyter.widget-view+json": {
       "model_id": "049f459769534da288af39a3bb0c4286",
       "version_major": 2,
       "version_minor": 0
      },
      "text/plain": [
       "interactive(children=(IntSlider(value=25, description='alpha', max=50, min=1), IntSlider(value=3, description=…"
      ]
     },
     "metadata": {},
     "output_type": "display_data"
    },
    {
     "data": {
      "text/plain": [
       "<function __main__.plot_normal_dp_approximation(alpha, n=3)>"
      ]
     },
     "execution_count": 5,
     "metadata": {},
     "output_type": "execute_result"
    }
   ],
   "source": [
    "#nbi:hide_in\n",
    "interact(plot_normal_dp_approximation, alpha=(1, 50), n=(2,3))"
   ]
  },
  {
   "cell_type": "code",
   "execution_count": 6,
   "metadata": {},
   "outputs": [],
   "source": [
    "#nbi:hide_in\n",
    "def chinese_restaurant_process_clustering(alpha,seed,k_,num_cluster):\n",
    "    #print(\"\\nComputing KMeans with KMeans++ Initialisation....\\n\")\n",
    "    km = KMeans(n_clusters=k_,max_iter=20)\n",
    "    #print(\"Computed KMeans with initialisation!\\n\")\n",
    "    \"\"\"\n",
    "        Here we are adding the dataset - since we are going to be performing gaussian\n",
    "        mixture model clustering using dirichlet processes, we are going to sample the\n",
    "        data points from a mixture of gaussians - just for this demo, we are setting cluster \n",
    "        sizes arbitrarily\"\"\"\n",
    "    np.random.seed(seed)\n",
    "    \n",
    "    dataset_1 = np.random.multivariate_normal([5, 5], np.diag([0.5, 0.5]), size=10)\n",
    "    dataset_2 = np.random.multivariate_normal([7.5, 8], np.diag([0.5, 0.5]), size=60)\n",
    "    dataset_3 = np.random.multivariate_normal([10, 12], np.diag([0.5, 0.5]), size=40)\n",
    "    dataset_4 = np.random.multivariate_normal([6,11],np.diag([1,1]),size=50)\n",
    "    dataset_5 = np.random.multivariate_normal([9,11],np.diag([1,1]),size=60)\n",
    "    dataset_6 = np.random.multivariate_normal([10,6],np.diag([0.5,0.5]),size=50)\n",
    "    \n",
    "    dataset_total = np.vstack([dataset_1,dataset_2,dataset_3,dataset_4,dataset_5,dataset_6])\n",
    "    \n",
    "    if num_cluster<=6:\n",
    "        arr = [10,70,110,160,220,270]\n",
    "        dataset_total = dataset_total[:arr[num_cluster-1]]\n",
    "    else:\n",
    "        temp = num_cluster-6\n",
    "        new_cluster = np.random.multivariate_normal([10,9],np.diag([0.75, 0.75]), size=50)\n",
    "        dataset_total = np.vstack([dataset_total,new_cluster])\n",
    "        new_cluster = np.random.multivariate_normal([0,6],np.diag([0.75, 0.75]), size=50)\n",
    "        dataset_total = np.vstack([dataset_total,new_cluster])\n",
    "        \n",
    "    \"\"\"\n",
    "    Just combine all the data points that were generated into a single vector\n",
    "    This is useful since we can later use these as binary indices to find out the \n",
    "    respective clusters\"\"\"\n",
    "\n",
    "    N, D = dataset_total.shape\n",
    "    \"\"\"\n",
    "        Note that N gives the number of samples in the dataset\n",
    "        D is the number of dimensions. Only 2D Case is visualisable\n",
    "        other n-D we can just use the data accordingly\"\"\"\n",
    "\n",
    "    \"\"\"\n",
    "        Beginning of the Gaussian Mixture Model \n",
    "        We are going to be assuming that all points belong to the same cluster\n",
    "        initially. Then we shall, decompose the data into clusters or combine them\n",
    "        to have reduced clusters\"\"\"\n",
    "    multi_variate_normal = multivariate_normal # We are using the Higher Dimensional Gaussian\n",
    "    means = []  # This is the list that contains the means of the Gaussians that we fit for each cluster\n",
    "    sigma = np.eye(D) # This is the covariance matrix - for simplicity's sake we are setting the covariance matrix\n",
    "    prec = np.linalg.inv(sigma)  # Fixed precision matrix for all Gaussians\n",
    "    zs = np.zeros([N], dtype=int)  # Latent variables that need to be inferred\n",
    "    C = []  # This is a list of arrays, each of size number of datapoints. The arrays are binary and indicate\n",
    "            # whether a particular element belongs to a cluster or not. Note that each element belongs to one cluster,\n",
    "            # the cluster with its highest probability\n",
    "    samples_per_cluster = []  # Count of each cluster\n",
    "    start_mean = np.ones(D)\n",
    "    start_variance = np.eye(D)\n",
    "    prec0 = np.linalg.inv(np.eye(D))\n",
    "    G = multi_variate_normal(mean=start_mean, cov=start_variance)## Base Distribution\n",
    "    C.append(np.ones(N, dtype=int))\n",
    "    zs[:] = 0        ## Sets all the elements to 0 - assume that all points belonged to the same cluster\n",
    "    samples_per_cluster.append(N)   #Initially all points in same cluster\n",
    "    means.append(G.rvs())           # Add the mean of the starting cluster\n",
    "    K = 1                           # Number of Clusters is now, 1.\n",
    "    #print(\"Gibbs Sampling Started....\\n\")\n",
    "    for iteration in range(20):     # Heuristic - Can be anything of the users choice.\n",
    "        \"\"\"Gibbs Sampling starts here\n",
    "           Note that we are simulating the Chinese Restaurant Process for our model\n",
    "           to cluster the data points\"\"\"\n",
    "        \n",
    "        for i in range(N):          # Gibbs Sampling Begin\n",
    "            \"\"\"\n",
    "                Unassign this particular point.\n",
    "                In each iteration, assign each point to a new \n",
    "                cluster with probability 1/(alpha+n) or add to an existing\n",
    "                cluster with probability proportional to the number of points in every\n",
    "                cluster, i.e., (n_k)/(n+alpha), where n_k is the number of points in cluster k\n",
    "                \"\"\"\n",
    "            \n",
    "            zi = zs[i]              \n",
    "            C[zi][i] = 0\n",
    "            samples_per_cluster[zi] -= 1\n",
    "            \"\"\"\n",
    "                Suppose after unassigning, number of clusters goes to zero.\n",
    "                \"\"\"\n",
    "            if samples_per_cluster[zi] == 0:\n",
    "                zs[zs > zi] -= 1\n",
    "                del C[zi]\n",
    "                del samples_per_cluster[zi]\n",
    "                del means[zi]\n",
    "                K -= 1\n",
    "            probs = np.zeros(K+1)\n",
    "            zs_minus_i = zs[np.arange(len(zs)) != i]\n",
    "            \"\"\"\n",
    "                This is the step where Gibbs Sampling Starts\n",
    "                We normalize the probability since we need to multiply the likelihood \n",
    "                as per max-likelihood principle\n",
    "            \"\"\"\n",
    "            for k in range(K):\n",
    "                nk_minus = zs_minus_i[zs_minus_i == k].shape[0]\n",
    "                crp = nk_minus / (N + alpha - 1)\n",
    "                probs[k] = crp * multi_variate_normal.pdf(dataset_total[i], means[k], sigma)\n",
    "            crp = alpha / (N + alpha - 1)\n",
    "            likelihood = multi_variate_normal.pdf(dataset_total[i], start_mean, start_variance+sigma)\n",
    "            probs[K] = crp*likelihood\n",
    "            probs /= np.sum(probs)\n",
    "            z = np.random.multinomial(n=1, pvals=probs).argmax()\n",
    "            if z == K:\n",
    "                C.append(np.zeros(N, dtype=int))\n",
    "                samples_per_cluster.append(0)\n",
    "                means.append(G.rvs())\n",
    "                K+=1\n",
    "            zs[i] = z\n",
    "            C[z][i] = 1\n",
    "            samples_per_cluster[z] += 1\n",
    "        \"\"\"\n",
    "            Sampling is done here.\n",
    "            Sampling from the conditional distribution\n",
    "        \"\"\"\n",
    "        for k in range(K):\n",
    "            Xk = dataset_total[zs == k]\n",
    "            samples_per_cluster[k] = Xk.shape[0]\n",
    "            lambda_post = prec0 + samples_per_cluster[k]*prec\n",
    "            cov_post = np.linalg.inv(lambda_post)\n",
    "            left = cov_post\n",
    "            right = prec0 @ start_mean + samples_per_cluster[k]*prec @ np.mean(Xk, axis=0)\n",
    "            means_post = left @ right\n",
    "            means[k] = multi_variate_normal.rvs(means_post, cov_post)\n",
    "        \"\"\"\n",
    "            Below we plot - by using the corresponding indices for each cluster.\n",
    "        \"\"\"\n",
    "    #print(\"Gibbs Sampling Done! - Plotting now....\\n\")\n",
    "    km.fit(dataset_total)\n",
    "    predicted = km.predict(dataset_total)\n",
    "    Y=np.zeros(len(dataset_total))\n",
    "    for k in range(K):\n",
    "        Y[C[k]==1]=k+1\n",
    "    fig, ax = plt.subplots(nrows=1, ncols=2)\n",
    "    fig.set_figheight(5)\n",
    "    fig.set_figwidth(15)\n",
    "    plt.subplot(1,2,1)\n",
    "    plt.title('KMeans++ (k='+str(k_)+')')\n",
    "    plt.xlabel('X Axis')\n",
    "    plt.ylabel('Y Axis')\n",
    "    plt.scatter(dataset_total[:,0],dataset_total[:,1],c=predicted,cmap='plasma')\n",
    "    plt.subplot(1,2,2)\n",
    "    plt.title('CRP Dirichlet Process - Found '+str(K) + ' after 20 iterations')\n",
    "    plt.scatter(dataset_total[:,0],dataset_total[:,1],c=Y,cmap='plasma')\n",
    "    plt.xlabel('X Axis')\n",
    "    plt.ylabel('Y Axis')\n",
    "    plt.show()"
   ]
  },
  {
   "cell_type": "code",
   "execution_count": 7,
   "metadata": {},
   "outputs": [
    {
     "data": {
      "application/vnd.jupyter.widget-view+json": {
       "model_id": "cf8bf0d63e8b4fe6948476e80c84c071",
       "version_major": 2,
       "version_minor": 0
      },
      "text/plain": [
       "interactive(children=(FloatSlider(value=5000.05, description='alpha', max=10000.0, min=0.1), IntSlider(value=3…"
      ]
     },
     "metadata": {},
     "output_type": "display_data"
    },
    {
     "data": {
      "text/plain": [
       "<function __main__.chinese_restaurant_process_clustering(alpha, seed, k_, num_cluster)>"
      ]
     },
     "execution_count": 7,
     "metadata": {},
     "output_type": "execute_result"
    }
   ],
   "source": [
    "#nbi:hide_in\n",
    "from ipywidgets import interact\n",
    "interact(chinese_restaurant_process_clustering, alpha=(0.1,10000), seed=(1,5),num_cluster=(1,8),k_=(1,10))"
   ]
  },
  {
   "cell_type": "markdown",
   "metadata": {},
   "source": [
    "## Sammed S Kagi | Deepak Narayanan | Girish Chandar | Shivji Bhagat"
   ]
  }
 ],
 "metadata": {
  "kernelspec": {
   "display_name": "Python 3",
   "language": "python",
   "name": "python3"
  },
  "language_info": {
   "codemirror_mode": {
    "name": "ipython",
    "version": 3
   },
   "file_extension": ".py",
   "mimetype": "text/x-python",
   "name": "python",
   "nbconvert_exporter": "python",
   "pygments_lexer": "ipython3",
   "version": "3.6.8"
  }
 },
 "nbformat": 4,
 "nbformat_minor": 2
}
